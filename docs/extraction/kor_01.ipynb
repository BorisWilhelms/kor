{
 "cells": [
  {
   "cell_type": "markdown",
   "id": "6fcfbb4c-e91d-46aa-8653-38f094146c0c",
   "metadata": {},
   "source": [
    "# Kor\n",
    "\n",
    "This notebooks shows a few extraction examples. \n",
    "\n",
    "Please pay attention to errors that are made to better understand limitations. \n",
    "This may not be the best approach for information extraction using an LLM."
   ]
  },
  {
   "cell_type": "markdown",
   "id": "7db26299-a752-44c4-b20d-c338b90c6d15",
   "metadata": {
    "tags": []
   },
   "source": [
    "## Temporary hack to add kor to PYTHONPATH"
   ]
  },
  {
   "cell_type": "code",
   "execution_count": 1,
   "id": "fe40bbba-e7ec-4cf9-ab79-16139e6e7e94",
   "metadata": {
    "tags": []
   },
   "outputs": [],
   "source": [
    "%load_ext autoreload\n",
    "%autoreload 2"
   ]
  },
  {
   "cell_type": "code",
   "execution_count": 2,
   "id": "ea602017-6b8a-4b42-850a-686cae35809f",
   "metadata": {
    "tags": []
   },
   "outputs": [],
   "source": [
    "import sys\n",
    "import pprint"
   ]
  },
  {
   "cell_type": "code",
   "execution_count": 3,
   "id": "ae7d98ba-5ca8-4ce5-b54a-ef100affa9f5",
   "metadata": {
    "tags": []
   },
   "outputs": [],
   "source": [
    "sys.path.insert(0, '../../')"
   ]
  },
  {
   "cell_type": "code",
   "execution_count": 4,
   "id": "718c66a7-6186-4ed8-87e9-5ed28e3f209e",
   "metadata": {
    "tags": []
   },
   "outputs": [],
   "source": [
    "from kor.elements import Form, TextInput, NumericRange, Number, Selection, Option, ObjectInput\n",
    "from kor.extraction import extract, chat_extract\n",
    "from kor.llm_utils import LLM, ChatLLM, ChatLLMWithChatInvoke"
   ]
  },
  {
   "cell_type": "code",
   "execution_count": 5,
   "id": "3c0f282c-19b5-454d-a734-6f1cb4429d06",
   "metadata": {
    "tags": []
   },
   "outputs": [],
   "source": [
    "llm = ChatLLMWithChatInvoke(verbose=False)"
   ]
  },
  {
   "cell_type": "markdown",
   "id": "58ecdb75-7b61-4676-bd12-9f86ff523441",
   "metadata": {},
   "source": [
    "## Collect personal information"
   ]
  },
  {
   "cell_type": "code",
   "execution_count": 11,
   "id": "0c611670-2678-4bc3-9ce2-42a181896194",
   "metadata": {
    "tags": []
   },
   "outputs": [],
   "source": [
    "form = Form(\n",
    "    id='personal-info', \n",
    "    description='Collect information about a person.',\n",
    "    elements=[\n",
    "        TextInput(\n",
    "            id='profession',\n",
    "            description='what is the person\\'s profession?',\n",
    "            examples=[('He was a piano teacher', 'piano teacher'), ('Bob was a lawyer and a politician', ['lawyer', 'politician'])]\n",
    "        ),\n",
    "        TextInput(\n",
    "            id='first_name',\n",
    "            description='what is the person\\'s first name',\n",
    "            examples=[('Billy was here', 'Billy'), ('Bob Donatello was very tall', 'Bob')]\n",
    "        ),\n",
    "        TextInput(\n",
    "            id='last_name',\n",
    "            description='what is the person\\'s last name',\n",
    "            examples=[('Billy was here', ''), ('Bob Donatello was very tall', 'Donatello')]\n",
    "        ),\n",
    "        Number(\n",
    "            id='age',\n",
    "            description='what is the person\\'s age',\n",
    "            examples=[('26 years old', '26 years'), ('6 puppies', '') ],\n",
    "        ),\n",
    "        Selection(\n",
    "            id='eye-color', \n",
    "            description='What is the person\\'s eye color?',\n",
    "            options=[\n",
    "                Option(id='green', description='Green Eyes',  examples=['my eyes are green']),\n",
    "                Option(id='blue',description='Blue Eyes',  examples=['blue eyes']),\n",
    "                Option(id='brown',description='Brown Eyes',  examples=['brown eye color']),\n",
    "            ],\n",
    "            null_examples=['violet eyes']\n",
    "        )\n",
    "    ]\n",
    ")"
   ]
  },
  {
   "cell_type": "code",
   "execution_count": 7,
   "id": "c8d6ce1e-68e0-4226-ad8f-f45cf64f5190",
   "metadata": {
    "tags": []
   },
   "outputs": [
    {
     "name": "stdout",
     "output_type": "stream",
     "text": [
      "{ 'personal-info': [ { 'age': ['60 days'],\n",
      "                       'first_name': ['Alice'],\n",
      "                       'last_name': ['MacDonald']}]}\n",
      "CPU times: user 61.4 ms, sys: 3.62 ms, total: 65 ms\n",
      "Wall time: 1.69 s\n"
     ]
    }
   ],
   "source": [
    "%%time\n",
    "pprint.pprint(chat_extract('Today Alice MacDonald is turning sixty days old.', form, llm), indent=2)"
   ]
  },
  {
   "cell_type": "markdown",
   "id": "29d6e0ff-93d6-4783-8866-0ea91fd021d2",
   "metadata": {},
   "source": [
    "**ATTENTION** At the moment, parsed information will be collected independently into lists if using a flat form. (Might change the API in a bit since it feels like this will be a source of confusion.)"
   ]
  },
  {
   "cell_type": "code",
   "execution_count": 8,
   "id": "ed6a1f62-c35b-4f91-b820-880b12ce9e85",
   "metadata": {
    "tags": []
   },
   "outputs": [
    {
     "name": "stdout",
     "output_type": "stream",
     "text": [
      "{ 'personal-info': [ { 'age': ['60 days'],\n",
      "                       'eye-color': ['blue'],\n",
      "                       'first_name': ['Alice'],\n",
      "                       'last_name': ['MacDonald']},\n",
      "                     {'age': ['10 years'], 'first_name': ['Bob']}]}\n",
      "CPU times: user 5.42 ms, sys: 143 µs, total: 5.57 ms\n",
      "Wall time: 1.82 s\n"
     ]
    }
   ],
   "source": [
    "%%time\n",
    "pprint.pprint(\n",
    "    chat_extract('Today Alice MacDonald is turning sixty days old. She had blue eyes. '\n",
    "            'Bob is turning 10 years old. His eyes were bright red.', form, llm), \n",
    "indent=2)"
   ]
  },
  {
   "cell_type": "markdown",
   "id": "c88a8104-78de-4d77-a18c-2773cf78d93b",
   "metadata": {},
   "source": [
    "## Using an Object input"
   ]
  },
  {
   "cell_type": "code",
   "execution_count": 9,
   "id": "b66bf239-1031-4f70-b8a8-3a92358b22d9",
   "metadata": {
    "tags": []
   },
   "outputs": [],
   "source": [
    "form = Form(\n",
    "    id='personal', \n",
    "    description='Collect information about a person.',\n",
    "    elements=[\n",
    "        ObjectInput(\n",
    "            id='info', \n",
    "            description='Personal information about a person like name, age, hobbies, date of birth, height etc.', \n",
    "            examples=[(\n",
    "                'Billy Apple was born on 2020-01-01', {\n",
    "                    'first_name': 'Billy',\n",
    "                    'last_name': 'Apple', \n",
    "                    'born_on': '2020-01-01'\n",
    "                },\n",
    "                ), \n",
    "                (\n",
    "                'Frank was born on 2020-01-01 and is 2 years old today', {\n",
    "                    'first_name': 'Frank', \n",
    "                    'born_on': '2020-01-01',\n",
    "                    'age': '2 years old',\n",
    "                }\n",
    "                )\n",
    "            ]\n",
    "        )\n",
    "    ]\n",
    ")"
   ]
  },
  {
   "cell_type": "markdown",
   "id": "29263531-2fba-4518-9b4d-964b6e9b9b66",
   "metadata": {},
   "source": [
    "If outputs fail for other sentences, try to add some more examples."
   ]
  },
  {
   "cell_type": "code",
   "execution_count": 14,
   "id": "e12c4842-0853-45bb-bd30-46903056dc95",
   "metadata": {
    "tags": []
   },
   "outputs": [
    {
     "name": "stdout",
     "output_type": "stream",
     "text": [
      "{ 'personal-info': [ { 'age': ['60 days'],\n",
      "                       'eye-color': ['blue'],\n",
      "                       'first_name': ['Alice'],\n",
      "                       'last_name': ['MacDonald']},\n",
      "                     { 'age': ['10 years'],\n",
      "                       'eye-color': ['bright red'],\n",
      "                       'first_name': ['Bob']},\n",
      "                     { 'eye-color': ['green'],\n",
      "                       'first_name': ['Chris'],\n",
      "                       'last_name': ['Prass'],\n",
      "                       'profession': ['piano teacher']},\n",
      "                     { 'age': ['less than 2 years'],\n",
      "                       'eye-color': ['yellow'],\n",
      "                       'first_name': ['Dorothy'],\n",
      "                       'profession': ['certified mechanic', 'chef']}]}\n",
      "CPU times: user 6.61 ms, sys: 202 µs, total: 6.81 ms\n",
      "Wall time: 5.54 s\n"
     ]
    }
   ],
   "source": [
    "%%time\n",
    "pprint.pprint(\n",
    "    chat_extract('Today Alice MacDonald is turning sixty days old. She had blue eyes. '\n",
    "            'Bob is turning 10 years old. His eyes were bright red. Chris Prass used his '\n",
    "            'green eyes to look at Dorothy to find 15 year old eyes staring back at him. '\n",
    "            'Prass was a piano teacher. Dorothy was a certified mechanic and a chef. Dorothy was not even 2 years old. ' \n",
    "            'All certified mechanics have yellow eyes.', form, llm), \n",
    "indent=2)"
   ]
  },
  {
   "cell_type": "code",
   "execution_count": 10,
   "id": "d7c7c74c-1ec0-41fe-8a5a-a099fb6c75e8",
   "metadata": {
    "tags": []
   },
   "outputs": [
    {
     "name": "stdout",
     "output_type": "stream",
     "text": [
      "{ 'personal': [ { 'info': [ { 'age': ['60 days old'],\n",
      "                              'eye_color': ['blue'],\n",
      "                              'first_name': ['Alice'],\n",
      "                              'last_name': ['MacDonald']}]},\n",
      "                { 'info': [ { 'age': ['10 years old'],\n",
      "                              'eye_color': ['bright red'],\n",
      "                              'first_name': ['Bob']}]},\n",
      "                { 'info': [ { 'age': ['15 years old'],\n",
      "                              'eye_color': ['yellow'],\n",
      "                              'first_name': ['Dorothy']}]},\n",
      "                { 'info': [ { 'eye_color': ['green'],\n",
      "                              'first_name': ['Chris'],\n",
      "                              'last_name': ['Prass'],\n",
      "                              'profession': ['piano teacher']}]}]}\n",
      "CPU times: user 7.33 ms, sys: 184 µs, total: 7.51 ms\n",
      "Wall time: 4.82 s\n"
     ]
    }
   ],
   "source": [
    "%%time\n",
    "pprint.pprint(\n",
    "    chat_extract('Today Alice MacDonald is turning sixty days old. She had blue eyes. '\n",
    "            'Bob is turning 10 years old. His eyes were bright red. Chris Prass used his '\n",
    "            'green eyes to look at Dorothy to find 15 year old eyes staring back at him. '\n",
    "            'Prass was a piano teacher. Dorothy was a certified mechanic. ' \n",
    "            'All certified mechanics have yellow eyes.', form, llm), \n",
    "indent=2)"
   ]
  },
  {
   "cell_type": "markdown",
   "id": "5aefd7ff-526e-45f4-9fe0-e3f0586dfee1",
   "metadata": {},
   "source": [
    "## Buying sports tickets"
   ]
  },
  {
   "cell_type": "code",
   "execution_count": 10,
   "id": "c50b080b-7179-4bbe-b234-83ce59e2d215",
   "metadata": {
    "tags": []
   },
   "outputs": [],
   "source": [
    "form = Form(\n",
    "    id='action', \n",
    "    description='User is looking for sports tickets',\n",
    "    elements=[\n",
    "        TextInput(\n",
    "            id='sport',\n",
    "            description='which sports do you want to buy tickets for?',\n",
    "            examples=[('I want to buy tickets to basketball and football games', ['basketball', 'footbal'])]\n",
    "        ),\n",
    "        TextInput(\n",
    "            id='location',\n",
    "            description='where would you like to watch the game?',\n",
    "            examples=[('in boston', 'boston'), ('in france or italy', ['france', 'italy'])]\n",
    "        ),\n",
    "            \n",
    "        ObjectInput(\n",
    "            id='price-range',\n",
    "            description='how much do you want to spend?',\n",
    "            examples=[('no more than $100', {'price-max': '100', 'currency': \"$\"}), \n",
    "                      ('between 50 and 100 dollars', {'price-max': '100', 'price-min': '50', 'currency': \"$\"})]\n",
    "        ),\n",
    "    ]\n",
    "\n",
    "           \n",
    ")"
   ]
  },
  {
   "cell_type": "code",
   "execution_count": 11,
   "id": "73c31ace-32dd-4a33-ae39-475db6934f6d",
   "metadata": {
    "tags": []
   },
   "outputs": [
    {
     "name": "stdout",
     "output_type": "stream",
     "text": [
      "{ 'location': ['LA area'],\n",
      "  'price-range': [{'currency': ['$'], 'price-max': ['100']}],\n",
      "  'sport': ['baseball']}\n",
      "CPU times: user 4.1 ms, sys: 0 ns, total: 4.1 ms\n",
      "Wall time: 2.13 s\n"
     ]
    }
   ],
   "source": [
    "%%time\n",
    "pprint.pprint(extract('I want to buy tickets for a baseball game in LA area under $100', form, llm), indent=2)"
   ]
  },
  {
   "cell_type": "markdown",
   "id": "20ddd000-df00-4014-9433-fba85181ba46",
   "metadata": {},
   "source": [
    "## More complex sentence\n",
    "\n",
    "Use an LLM to parse a sentence and later convert it into a database query."
   ]
  },
  {
   "cell_type": "code",
   "execution_count": 12,
   "id": "ca1a8200-5da8-48ac-8601-4fc7ff00d960",
   "metadata": {
    "tags": []
   },
   "outputs": [],
   "source": [
    "from kor import elements"
   ]
  },
  {
   "cell_type": "code",
   "execution_count": 13,
   "id": "2b0bcf09-a3ae-4a8a-9ce3-f86834ce6ca2",
   "metadata": {
    "tags": []
   },
   "outputs": [],
   "source": [
    "company_name = elements.TextInput(\n",
    "    id=\"company-name\",\n",
    "    description=\"what is the name of the company you want to find\",\n",
    "    examples=[\n",
    "        (\"Apple inc\", \"Apple inc\"),\n",
    "        (\"largest 10 banks in the world\", \"\"),\n",
    "        (\"microsoft and apple\", \"microsoft,apple\"),\n",
    "    ],\n",
    ")\n",
    "\n",
    "industry_name = elements.TextInput(\n",
    "    id=\"industry-name\",\n",
    "    description=\"what is the name of the company's industry\",\n",
    "    examples=[\n",
    "        (\"companies in the steel manufacturing industry\", \"steel manufacturing\"),\n",
    "        (\"large banks\", \"banking\"),\n",
    "        (\"military companies\", \"defense\"),\n",
    "        (\"chinese companies\", \"\"),\n",
    "        (\"companies that cell cigars\", \"cigars\"),\n",
    "    ],\n",
    ")\n",
    "\n",
    "geography_name = elements.TextInput(\n",
    "    id=\"geography-name\",\n",
    "    description=\"where is the company based?\",\n",
    "    examples=[\n",
    "        (\"chinese companies\", \"china\"),\n",
    "        (\"companies based in france\", \"france\"),\n",
    "        (\"LaMaple was based in france, italy\", ['france', 'italy']),\n",
    "        (\"italy\", \"\"),\n",
    "    ],\n",
    ")\n",
    "\n",
    "foundation_date = elements.DateInput(\n",
    "    id=\"foundation-date\",\n",
    "    description=\"Foundation date of the company\",\n",
    "    examples=[(\"companies founded in 2023\", \"2023\")],\n",
    ")\n",
    "\n",
    "attribute_filter = elements.ObjectInput(\n",
    "    id=\"attribute-filter\",\n",
    "    description=(\n",
    "        \"Filter by a value of an attribute using a binary expression. Specify the attribute's name, \"\n",
    "        \"an operator (>, <, =, !=, >=, <=, in, not in) and a value.\"\n",
    "    ),\n",
    "    examples=[\n",
    "        (\n",
    "            \"Companies with revenue > 100\",\n",
    "            {\n",
    "                \"attribute\": \"revenue\",\n",
    "                \"op\": \">\",\n",
    "                \"value\": \"100\",\n",
    "            },\n",
    "        ),\n",
    "        (\n",
    "            \"number of employees between 50 and 1000\",\n",
    "            {\"attribute\": \"employees\", \"op\": \"in\", \"value\": [\"50\", \"1000\"]},\n",
    "        ),\n",
    "        (\n",
    "            \"blue or green color\",\n",
    "            {\n",
    "                \"attribute\": \"color\",\n",
    "                \"op\": \"in\",\n",
    "                \"value\": [\"blue\", \"green\"],\n",
    "            },\n",
    "        ),\n",
    "        (\n",
    "            \"companies that do not sell in california\",\n",
    "            {\n",
    "                \"attribute\": \"geography-sales\",\n",
    "                \"op\": \"not in\",\n",
    "                \"value\": \"california\",\n",
    "            },\n",
    "        ),\n",
    "    ],\n",
    ")\n",
    "\n",
    "sales_geography = elements.TextInput(\n",
    "    id=\"geography-sales\",\n",
    "    description=(\n",
    "        \"where is the company doing sales? Please use a single country name.\"\n",
    "    ),\n",
    "    examples=[\n",
    "        (\"companies with sales in france\", \"france\"),\n",
    "        (\"companies that sell their products in germany\", \"germany\"),\n",
    "        (\"france, italy\", \"\"),\n",
    "    ],\n",
    ")\n",
    "\n",
    "attribute_selection_block = elements.TextInput(\n",
    "    id=\"attribute_selection\",\n",
    "    description=\"Asking to see the value of one or more attributes\",\n",
    "    examples=[\n",
    "        (\"What is the revenue of tech companies?\", \"revenue\"),\n",
    "        (\"market cap of apple?\", \"market cap\"),\n",
    "        (\"number of employees of largest company\", \"number of employees\"),\n",
    "        (\"what are the revenue and market cap of apple\", ['revenue', 'market cap']),\n",
    "        (\"share price and number of shares of indian companies\", [\"share price\", \"number of shares\"]),\n",
    "    ],\n",
    ")\n",
    "\n",
    "sort_by_attribute_block = elements.ObjectInput(\n",
    "    id=\"sort-block\",\n",
    "    description=(\n",
    "        \"Use to request to sort the results by a particular attribute. \"\n",
    "        \"Can specify the direction\"\n",
    "    ),\n",
    "    examples=[\n",
    "        (\n",
    "            \"Largest by market-cap tech companies\",\n",
    "            {\"direction\": \"descending\", \"attribute\": \"market-cap\"},\n",
    "        ),\n",
    "        (\n",
    "            \"sort by companies with smallest revenue \",\n",
    "            {\"direction\": \"ascending\", \"attribute\": \"revenue\"},\n",
    "        ),\n",
    "    ],\n",
    ")\n",
    "\n",
    "form = elements.Form(\n",
    "    id=\"search-for-companies\",\n",
    "    description=\"Search for companies matching the following criteria.\",\n",
    "    elements=[\n",
    "        company_name,\n",
    "        geography_name,\n",
    "        foundation_date,\n",
    "        industry_name,\n",
    "        sales_geography,\n",
    "        attribute_filter,\n",
    "        attribute_selection_block,\n",
    "        sort_by_attribute_block,\n",
    "    ],\n",
    ")\n"
   ]
  },
  {
   "cell_type": "code",
   "execution_count": 14,
   "id": "6aae8e17-bb1e-4f8d-94e6-4855f2077a26",
   "metadata": {
    "tags": []
   },
   "outputs": [
    {
     "name": "stdout",
     "output_type": "stream",
     "text": [
      "{}\n",
      "CPU times: user 3.5 ms, sys: 0 ns, total: 3.5 ms\n",
      "Wall time: 790 ms\n"
     ]
    }
   ],
   "source": [
    "%%time\n",
    "pprint.pprint(\n",
    "    extract('Today Alice MacDonald is turning sixty days old. She had blue eyes. '\n",
    "            'Bob is turning 10 years old. His eyes were bright red.', form, llm), \n",
    "indent=2)"
   ]
  },
  {
   "cell_type": "code",
   "execution_count": 15,
   "id": "214daf5f-0026-4880-a066-06ecaf73b7b8",
   "metadata": {
    "tags": []
   },
   "outputs": [
    {
     "name": "stdout",
     "output_type": "stream",
     "text": [
      "{ 'attribute-filter': [ { 'attribute': ['market cap'],\n",
      "                          'op': ['>'],\n",
      "                          'value': ['1 million']},\n",
      "                        { 'attribute': ['employees'],\n",
      "                          'op': ['<'],\n",
      "                          'value': ['50']}],\n",
      "  'attribute_selection': ['revenue', 'eps']}\n",
      "CPU times: user 2.65 ms, sys: 4.03 ms, total: 6.68 ms\n",
      "Wall time: 4.12 s\n"
     ]
    }
   ],
   "source": [
    "%%time\n",
    "pprint.pprint(\n",
    "    extract('revenue, eps of indian companies that have market cap of over 1 million, '\n",
    "            'but less than 50 employees and own red and blue buildings', form, llm\n",
    "           ), indent=2)"
   ]
  },
  {
   "cell_type": "code",
   "execution_count": 16,
   "id": "d631862c-175e-42bb-83ab-1cfea635a684",
   "metadata": {
    "tags": []
   },
   "outputs": [
    {
     "name": "stdout",
     "output_type": "stream",
     "text": [
      "{ 'attribute-filter': [ { 'attribute': ['market cap'],\n",
      "                          'op': ['>'],\n",
      "                          'value': ['1 million']},\n",
      "                        { 'attribute': ['employees'],\n",
      "                          'op': ['in'],\n",
      "                          'value': ['20', '50']}],\n",
      "  'attribute_selection': ['revenue', 'eps'],\n",
      "  'geography-name': ['india']}\n",
      "CPU times: user 5.81 ms, sys: 137 µs, total: 5.94 ms\n",
      "Wall time: 4.37 s\n"
     ]
    }
   ],
   "source": [
    "%%time\n",
    "pprint.pprint(extract('revenue, eps of indian companies that have market cap of over 1 million, and and between 20-50 employees', form, llm), indent=2)"
   ]
  },
  {
   "cell_type": "code",
   "execution_count": 17,
   "id": "2a620246-4c85-4256-8f58-0acbcc9455a3",
   "metadata": {
    "tags": []
   },
   "outputs": [
    {
     "name": "stdout",
     "output_type": "stream",
     "text": [
      "{ 'attribute-filter': [ { 'attribute': ['building color'],\n",
      "                          'op': ['in'],\n",
      "                          'value': ['red', 'blue']}]}\n",
      "CPU times: user 5.6 ms, sys: 0 ns, total: 5.6 ms\n",
      "Wall time: 1.74 s\n"
     ]
    }
   ],
   "source": [
    "%%time\n",
    "pprint.pprint(extract('companies that own red and blue buildings', form, llm), indent=2)"
   ]
  },
  {
   "cell_type": "code",
   "execution_count": 18,
   "id": "4745517e-507e-4d1a-97e0-d143fa34cea2",
   "metadata": {
    "tags": []
   },
   "outputs": [
    {
     "name": "stdout",
     "output_type": "stream",
     "text": [
      "{ 'attribute_selection': ['revenue'],\n",
      "  'geography-sales': ['germany'],\n",
      "  'sort-block': [ { 'attribute': ['number of employees'],\n",
      "                    'direction': ['descending']}]}\n",
      "CPU times: user 17.1 ms, sys: 0 ns, total: 17.1 ms\n",
      "Wall time: 2.66 s\n"
     ]
    }
   ],
   "source": [
    "b%%time\n",
    "pprint.pprint(extract('revenue of largest german companies sorted by number of employees', form, llm), indent=2)"
   ]
  }
 ],
 "metadata": {
  "kernelspec": {
   "display_name": "Python 3 (ipykernel)",
   "language": "python",
   "name": "python3"
  },
  "language_info": {
   "codemirror_mode": {
    "name": "ipython",
    "version": 3
   },
   "file_extension": ".py",
   "mimetype": "text/x-python",
   "name": "python",
   "nbconvert_exporter": "python",
   "pygments_lexer": "ipython3",
   "version": "3.11.2"
  }
 },
 "nbformat": 4,
 "nbformat_minor": 5
}
